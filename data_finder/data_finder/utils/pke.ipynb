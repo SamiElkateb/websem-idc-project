{
 "cells": [
  {
   "cell_type": "code",
   "execution_count": 30,
   "id": "6449fc81-2331-4143-bce3-fdd8ae0cc171",
   "metadata": {
    "ExecuteTime": {
     "end_time": "2023-11-26T14:56:05.632777200Z",
     "start_time": "2023-11-26T14:56:04.501276921Z"
    }
   },
   "outputs": [],
   "source": [
    "# !pip install git+https://github.com/boudinfl/pke.git\n",
    "# !pip install datasets\n",
    "# !pip install ipywidgets\n",
    "# !pip install nltk\n",
    "# !python -m spacy download fr\n",
    "# !pip install keybert\n",
    "# !pip install sentence-transformers\n",
    "import spacy\n",
    "import pke\n",
    "import pandas as pd\n",
    "nlp = spacy.load(\"fr_core_news_sm\")\n",
    "\n",
    "NB_SAMPLES = 100 # Between 0 and 100 for WikiNews"
   ]
  },
  {
   "cell_type": "code",
   "execution_count": 31,
   "id": "ac0084b480325891",
   "metadata": {
    "collapsed": false,
    "ExecuteTime": {
     "end_time": "2023-11-26T14:56:05.673997371Z",
     "start_time": "2023-11-26T14:56:05.673670927Z"
    }
   },
   "outputs": [],
   "source": [
    "import os\n",
    "import time as time\n",
    "from IPython.display import display\n",
    "import string\n",
    "\n",
    "def load_keyword_extraction_dataset(dataset_path,min_keys_count=False):\n",
    "    if min_keys_count:\n",
    "        min_keys = 10\n",
    "    res = {\n",
    "        \"docs\": [],\n",
    "        \"df\": [],\n",
    "        \"keys\": []\n",
    "    } \n",
    "    os.makedirs(f\"{dataset_path}/df\", exist_ok=True)\n",
    "    file_list = os.listdir(f\"{dataset_path}/docsutf8\")\n",
    "    for filename in file_list:\n",
    "        if not filename.endswith(\".txt\"): continue\n",
    "        with open(f\"{dataset_path}/docsutf8/{filename}\", \"r\") as f:\n",
    "            text = f.read()\n",
    "            res[\"docs\"].append(text.encode(errors=\"ignore\").decode())\n",
    "        keys_name = filename.replace(\".txt\", \".key\")\n",
    "        with open(f\"{dataset_path}/keys/{keys_name}\", \"r\") as f:\n",
    "            text = f.read()\n",
    "            doc = text.encode(errors=\"ignore\").decode('utf-8', 'ignore')\n",
    "            keys = doc.split(\"\\n\")[:-1] # La dernière ligne est vide, on la supprime\n",
    "            if min_keys_count:\n",
    "                min_keys = min(min_keys, len(keys)) # Permet de récupérer le nombre minimum de mots-clés associé à un document\n",
    "            res[\"keys\"].append(keys)\n",
    "            \n",
    "        # On calcule les fréquences de mots par document si elles n'existent pas\n",
    "        df_name = filename.replace(\".txt\", \".tsv.gz\") \n",
    "        if not os.path.isfile(f\"{dataset_path}/df/{df_name}\"):\n",
    "            pke.utils.compute_document_frequency([res[\"docs\"][-1]],\n",
    "                           output_file=f\"{dataset_path}/df/{df_name}\",\n",
    "                           language='fr')\n",
    "        df = pke.load_document_frequency_file(input_file=f\"{dataset_path}/df/{df_name}\")\n",
    "        res[\"df\"].append(df)\n",
    "        \n",
    "    if min_keys_count:\n",
    "        return res, min_keys\n",
    "    return res\n",
    "\n",
    "def strip_punctuation(s):\n",
    "    translator = str.maketrans('', '', string.punctuation.replace('-','').replace(\"'\",'').replace('’',''))\n",
    "    result_string = s.translate(translator)\n",
    "    return result_string\n",
    "\n",
    "def remove_breaks(s):\n",
    "    return s.replace('\\n',' ').replace('\\t',' ')\n",
    "\n",
    "def remove_double_spaces(s):\n",
    "    while '  ' in s:\n",
    "        s = s.replace('  ',' ')\n",
    "    return s\n",
    "\n",
    "def preprocess_texts(lst_docs):\n",
    "    lst_docs = [strip_punctuation(doc) for doc in lst_docs]\n",
    "    lst_docs = [remove_breaks(doc) for doc in lst_docs]\n",
    "    lst_docs = [remove_double_spaces(doc) for doc in lst_docs]\n",
    "    lst_docs = [doc.lower() for doc in lst_docs]\n",
    "    return lst_docs\n",
    "    "
   ]
  },
  {
   "cell_type": "code",
   "execution_count": 32,
   "id": "9252aa84-1b51-47ea-adbb-706258d97200",
   "metadata": {
    "ExecuteTime": {
     "end_time": "2023-11-26T14:56:05.681497591Z",
     "start_time": "2023-11-26T14:56:05.673865496Z"
    }
   },
   "outputs": [],
   "source": [
    "dataset, min_keys = load_keyword_extraction_dataset('WKC',min_keys_count=True)\n",
    "list_docs = preprocess_texts(dataset['docs'][:NB_SAMPLES])\n",
    "list_df = dataset['df'][:NB_SAMPLES]\n",
    "list_keys = dataset['keys'][:NB_SAMPLES]"
   ]
  },
  {
   "cell_type": "code",
   "execution_count": 33,
   "id": "29092479b2f2fe9d",
   "metadata": {
    "collapsed": false,
    "ExecuteTime": {
     "end_time": "2023-11-26T15:00:57.598355225Z",
     "start_time": "2023-11-26T14:56:05.680884569Z"
    }
   },
   "outputs": [],
   "source": [
    "from pke.unsupervised import MultipartiteRank, YAKE, TfIdf\n",
    "\n",
    "outputs = {}\n",
    "times = {}\n",
    "for model in [YAKE, TfIdf, MultipartiteRank]: # On utilise les trois modèles pour extraire des mots-clés\n",
    "    outputs[model.__name__] = []\n",
    "    extractor = model()\n",
    "    current_time = time.time() # On mesure le temps d'exécution\n",
    "    for doc, df in zip(list_docs, list_df):\n",
    "        extractor.load_document(input=doc, language='fr')\n",
    "        extractor.grammar_selection(grammar=\"NP: {<ADJ>*<NOUN|PROPN>+}\")  # Noun phrase selection based on grammar rules\n",
    "        if model.__name__ == \"TfIdf\":\n",
    "            extractor.candidate_weighting(df=df)\n",
    "        else:\n",
    "            extractor.candidate_weighting()\n",
    "            \n",
    "        outputs[model.__name__].append([u for u,v in extractor.get_n_best(n=min_keys,redundancy_removal=True)]) # On récupère les mots-clés, en ne gardant que le nombre minimum de mots-clés attendus\n",
    "    times[model.__name__] = time.time() - current_time # On enregistre le temps d'exécution"
   ]
  },
  {
   "cell_type": "code",
   "execution_count": 34,
   "id": "ed886539-d461-451d-a8cd-5f5566d5ec36",
   "metadata": {
    "ExecuteTime": {
     "end_time": "2023-11-26T15:01:03.762400052Z",
     "start_time": "2023-11-26T15:00:57.601083870Z"
    }
   },
   "outputs": [],
   "source": [
    "from keybert import KeyBERT\n",
    "\n",
    "outputs[\"KeyBERT\"] = []\n",
    "kb_model = KeyBERT(model='distiluse-base-multilingual-cased-v1')\n",
    "current_time = time.time() # On mesure le temps d'exécution\n",
    "for key, doc in enumerate(list_docs):\n",
    "    doc_embeddings, word_embeddings = kb_model.extract_embeddings(doc)\n",
    "    keywords = kb_model.extract_keywords(doc, top_n=min_keys, doc_embeddings=doc_embeddings, word_embeddings=word_embeddings)\n",
    "    outputs[\"KeyBERT\"].append([u for u,v in keywords]) # On récupère les mots-clés, en ne gardant que le nombre minimum de mots-clés attendus\n",
    "times[\"KeyBERT\"] = time.time() - current_time # On enregistre le temps d'exécution"
   ]
  },
  {
   "cell_type": "code",
   "execution_count": 35,
   "id": "28d508a89e9b902f",
   "metadata": {
    "collapsed": false,
    "ExecuteTime": {
     "end_time": "2023-11-26T15:01:03.834107084Z",
     "start_time": "2023-11-26T15:01:03.771302222Z"
    }
   },
   "outputs": [
    {
     "data": {
      "text/plain": "                                                YAKE  \\\n0  [42e festival, 42e édition, défilés journalier...   \n1  [poste jean-paul bailly, poste direction, dern...   \n2  [gros fraudeurs croatie publication, gros frau...   \n3  [high-tech annonce, nouvel appareil, second st...   \n4  [60 -, ria novosti valentine, scientifiques ru...   \n\n                                               TfIdf  \\\n0  [jusqu'au, dan, autres animations récurrentes,...   \n1  [noyal-sur-vilaine ille-et-vilaine, domicile c...   \n2  [croatie publication, gros fraudeurs croatie p...   \n3  [h, mm, high-tech annonce, « grand format, jus...   \n4  [60 -, v, mêmes résultats, seule zone, «, scie...   \n\n                                    MultipartiteRank  \\\n0  [lorient, août, 42e festival, grande nuit, aca...   \n1  [syndicat, postier, suicide, poste direction, ...   \n2  [noms, croatie publication, associations, gros...   \n3  [h, mm, jeux, dimensions, 3ds xl, high-tech an...   \n4  [scientifiques russes, yéti, poils, créature, ...   \n\n                                             KeyBERT  \n0  [festival, interceltique, célébration, interce...  \n1     [suicide, décès, mort, morte, courrier, privé]  \n2  [croatie, croates, fraudeurs, impôts, transpar...  \n3           [3ds, nintendo, console, ds, dsi, japon]  \n4  [russes, russie, scientifiques, scientifique, ...  ",
      "text/html": "<div>\n<style scoped>\n    .dataframe tbody tr th:only-of-type {\n        vertical-align: middle;\n    }\n\n    .dataframe tbody tr th {\n        vertical-align: top;\n    }\n\n    .dataframe thead th {\n        text-align: right;\n    }\n</style>\n<table border=\"1\" class=\"dataframe\">\n  <thead>\n    <tr style=\"text-align: right;\">\n      <th></th>\n      <th>YAKE</th>\n      <th>TfIdf</th>\n      <th>MultipartiteRank</th>\n      <th>KeyBERT</th>\n    </tr>\n  </thead>\n  <tbody>\n    <tr>\n      <th>0</th>\n      <td>[42e festival, 42e édition, défilés journalier...</td>\n      <td>[jusqu'au, dan, autres animations récurrentes,...</td>\n      <td>[lorient, août, 42e festival, grande nuit, aca...</td>\n      <td>[festival, interceltique, célébration, interce...</td>\n    </tr>\n    <tr>\n      <th>1</th>\n      <td>[poste jean-paul bailly, poste direction, dern...</td>\n      <td>[noyal-sur-vilaine ille-et-vilaine, domicile c...</td>\n      <td>[syndicat, postier, suicide, poste direction, ...</td>\n      <td>[suicide, décès, mort, morte, courrier, privé]</td>\n    </tr>\n    <tr>\n      <th>2</th>\n      <td>[gros fraudeurs croatie publication, gros frau...</td>\n      <td>[croatie publication, gros fraudeurs croatie p...</td>\n      <td>[noms, croatie publication, associations, gros...</td>\n      <td>[croatie, croates, fraudeurs, impôts, transpar...</td>\n    </tr>\n    <tr>\n      <th>3</th>\n      <td>[high-tech annonce, nouvel appareil, second st...</td>\n      <td>[h, mm, high-tech annonce, « grand format, jus...</td>\n      <td>[h, mm, jeux, dimensions, 3ds xl, high-tech an...</td>\n      <td>[3ds, nintendo, console, ds, dsi, japon]</td>\n    </tr>\n    <tr>\n      <th>4</th>\n      <td>[60 -, ria novosti valentine, scientifiques ru...</td>\n      <td>[60 -, v, mêmes résultats, seule zone, «, scie...</td>\n      <td>[scientifiques russes, yéti, poils, créature, ...</td>\n      <td>[russes, russie, scientifiques, scientifique, ...</td>\n    </tr>\n  </tbody>\n</table>\n</div>"
     },
     "execution_count": 35,
     "metadata": {},
     "output_type": "execute_result"
    }
   ],
   "source": [
    "pd.DataFrame(outputs).head()"
   ]
  },
  {
   "cell_type": "markdown",
   "id": "c8a6fff7b5c8bc65",
   "metadata": {
    "collapsed": false
   },
   "source": [
    "# Benchmarking"
   ]
  },
  {
   "cell_type": "code",
   "execution_count": 36,
   "id": "233e4bb82c522a68",
   "metadata": {
    "collapsed": false,
    "ExecuteTime": {
     "end_time": "2023-11-26T15:01:03.834445350Z",
     "start_time": "2023-11-26T15:01:03.818588721Z"
    }
   },
   "outputs": [],
   "source": [
    "# !pip install rouge"
   ]
  },
  {
   "cell_type": "code",
   "execution_count": 37,
   "id": "e83b06fad9ff3062",
   "metadata": {
    "collapsed": false,
    "ExecuteTime": {
     "end_time": "2023-11-26T15:01:03.834583492Z",
     "start_time": "2023-11-26T15:01:03.824775569Z"
    }
   },
   "outputs": [],
   "source": [
    "from rouge import Rouge\n",
    "rouge = Rouge() # On utilise la librairie rouge pour comparer les mots-clés extraits avec les mots-clés attendus"
   ]
  },
  {
   "cell_type": "code",
   "execution_count": 38,
   "id": "1a17e7ff2118f94a",
   "metadata": {
    "collapsed": false,
    "ExecuteTime": {
     "end_time": "2023-11-26T15:01:03.902670958Z",
     "start_time": "2023-11-26T15:01:03.832705997Z"
    }
   },
   "outputs": [],
   "source": [
    "for i in range(0,len(list_keys)):\n",
    "    list_keys[i] = list_keys[i][:min_keys] # On ne garde que le nombre minimum de mots-clés attendus, pour avoir le même nombre de mots-clés attendus et extraits"
   ]
  },
  {
   "cell_type": "code",
   "execution_count": 39,
   "id": "be8542e16b0582f4",
   "metadata": {
    "collapsed": false,
    "ExecuteTime": {
     "end_time": "2023-11-26T15:01:03.949473922Z",
     "start_time": "2023-11-26T15:01:03.877684396Z"
    }
   },
   "outputs": [],
   "source": [
    "scores_rouges = {}\n",
    "for model in outputs:\n",
    "    scores_rouges[model] = []\n",
    "    for i in range(0,len(list_keys)):\n",
    "        scores_rouges[model].append(rouge.get_scores(outputs[model][i], list_keys[i],avg=True)) # On calcule les scores ROUGE pour chaque document, avec rouge-1, rouge-2 et rouge-l"
   ]
  },
  {
   "cell_type": "code",
   "execution_count": 40,
   "id": "c40eebffa593aecf",
   "metadata": {
    "collapsed": false,
    "ExecuteTime": {
     "end_time": "2023-11-26T15:01:04.010207411Z",
     "start_time": "2023-11-26T15:01:03.921665366Z"
    }
   },
   "outputs": [
    {
     "data": {
      "text/plain": "                                                YAKE  \\\n0  {'rouge-1': {'r': 0.0, 'p': 0.0, 'f': 0.0}, 'r...   \n1  {'rouge-1': {'r': 0.08333333333333333, 'p': 0....   \n2  {'rouge-1': {'r': 0.3333333333333333, 'p': 0.1...   \n3  {'rouge-1': {'r': 0.0, 'p': 0.0, 'f': 0.0}, 'r...   \n4  {'rouge-1': {'r': 0.0, 'p': 0.0, 'f': 0.0}, 'r...   \n\n                                               TfIdf  \\\n0  {'rouge-1': {'r': 0.16666666666666666, 'p': 0....   \n1  {'rouge-1': {'r': 0.05555555555555555, 'p': 0....   \n2  {'rouge-1': {'r': 0.16666666666666666, 'p': 0....   \n3  {'rouge-1': {'r': 0.0, 'p': 0.0, 'f': 0.0}, 'r...   \n4  {'rouge-1': {'r': 0.0, 'p': 0.0, 'f': 0.0}, 'r...   \n\n                                    MultipartiteRank  \\\n0  {'rouge-1': {'r': 0.041666666666666664, 'p': 0...   \n1  {'rouge-1': {'r': 0.3333333333333333, 'p': 0.3...   \n2  {'rouge-1': {'r': 0.0, 'p': 0.0, 'f': 0.0}, 'r...   \n3  {'rouge-1': {'r': 0.3333333333333333, 'p': 0.2...   \n4  {'rouge-1': {'r': 0.0, 'p': 0.0, 'f': 0.0}, 'r...   \n\n                                             KeyBERT  \n0  {'rouge-1': {'r': 0.041666666666666664, 'p': 0...  \n1  {'rouge-1': {'r': 0.0, 'p': 0.0, 'f': 0.0}, 'r...  \n2  {'rouge-1': {'r': 0.3333333333333333, 'p': 0.3...  \n3  {'rouge-1': {'r': 0.0, 'p': 0.0, 'f': 0.0}, 'r...  \n4  {'rouge-1': {'r': 0.0, 'p': 0.0, 'f': 0.0}, 'r...  ",
      "text/html": "<div>\n<style scoped>\n    .dataframe tbody tr th:only-of-type {\n        vertical-align: middle;\n    }\n\n    .dataframe tbody tr th {\n        vertical-align: top;\n    }\n\n    .dataframe thead th {\n        text-align: right;\n    }\n</style>\n<table border=\"1\" class=\"dataframe\">\n  <thead>\n    <tr style=\"text-align: right;\">\n      <th></th>\n      <th>YAKE</th>\n      <th>TfIdf</th>\n      <th>MultipartiteRank</th>\n      <th>KeyBERT</th>\n    </tr>\n  </thead>\n  <tbody>\n    <tr>\n      <th>0</th>\n      <td>{'rouge-1': {'r': 0.0, 'p': 0.0, 'f': 0.0}, 'r...</td>\n      <td>{'rouge-1': {'r': 0.16666666666666666, 'p': 0....</td>\n      <td>{'rouge-1': {'r': 0.041666666666666664, 'p': 0...</td>\n      <td>{'rouge-1': {'r': 0.041666666666666664, 'p': 0...</td>\n    </tr>\n    <tr>\n      <th>1</th>\n      <td>{'rouge-1': {'r': 0.08333333333333333, 'p': 0....</td>\n      <td>{'rouge-1': {'r': 0.05555555555555555, 'p': 0....</td>\n      <td>{'rouge-1': {'r': 0.3333333333333333, 'p': 0.3...</td>\n      <td>{'rouge-1': {'r': 0.0, 'p': 0.0, 'f': 0.0}, 'r...</td>\n    </tr>\n    <tr>\n      <th>2</th>\n      <td>{'rouge-1': {'r': 0.3333333333333333, 'p': 0.1...</td>\n      <td>{'rouge-1': {'r': 0.16666666666666666, 'p': 0....</td>\n      <td>{'rouge-1': {'r': 0.0, 'p': 0.0, 'f': 0.0}, 'r...</td>\n      <td>{'rouge-1': {'r': 0.3333333333333333, 'p': 0.3...</td>\n    </tr>\n    <tr>\n      <th>3</th>\n      <td>{'rouge-1': {'r': 0.0, 'p': 0.0, 'f': 0.0}, 'r...</td>\n      <td>{'rouge-1': {'r': 0.0, 'p': 0.0, 'f': 0.0}, 'r...</td>\n      <td>{'rouge-1': {'r': 0.3333333333333333, 'p': 0.2...</td>\n      <td>{'rouge-1': {'r': 0.0, 'p': 0.0, 'f': 0.0}, 'r...</td>\n    </tr>\n    <tr>\n      <th>4</th>\n      <td>{'rouge-1': {'r': 0.0, 'p': 0.0, 'f': 0.0}, 'r...</td>\n      <td>{'rouge-1': {'r': 0.0, 'p': 0.0, 'f': 0.0}, 'r...</td>\n      <td>{'rouge-1': {'r': 0.0, 'p': 0.0, 'f': 0.0}, 'r...</td>\n      <td>{'rouge-1': {'r': 0.0, 'p': 0.0, 'f': 0.0}, 'r...</td>\n    </tr>\n  </tbody>\n</table>\n</div>"
     },
     "metadata": {},
     "output_type": "display_data"
    }
   ],
   "source": [
    "display(pd.DataFrame(scores_rouges).head())\n",
    "pd.DataFrame(scores_rouges).to_csv('scores_rouges.csv',index=False) # On enregistre les scores ROUGE dans un fichier CSV, pour pouvoir les réutiliser plus tard au besoin"
   ]
  },
  {
   "cell_type": "markdown",
   "id": "f16e9ad60e24c83",
   "metadata": {
    "collapsed": false
   },
   "source": [
    "+ Expliquez le fonctionnement de chaque algorithme que vous avez choisi / utilisé\n",
    "+ Quel algorithme a obtenu le meilleur score ROUGE ?"
   ]
  },
  {
   "cell_type": "code",
   "execution_count": 41,
   "id": "867cbde09b1c2f29",
   "metadata": {
    "collapsed": false,
    "ExecuteTime": {
     "end_time": "2023-11-26T15:01:04.011023972Z",
     "start_time": "2023-11-26T15:01:03.965694679Z"
    }
   },
   "outputs": [
    {
     "data": {
      "text/plain": "                                         YAKE  \\\nrouge-1  {'f': 0.042, 'p': 0.042, 'r': 0.052}   \nrouge-2  {'f': 0.002, 'p': 0.002, 'r': 0.002}   \nrouge-l  {'f': 0.042, 'p': 0.042, 'r': 0.052}   \nglobal   {'f': 0.029, 'p': 0.029, 'r': 0.035}   \n\n                                        TfIdf  \\\nrouge-1  {'f': 0.033, 'p': 0.032, 'r': 0.038}   \nrouge-2  {'f': 0.002, 'p': 0.003, 'r': 0.001}   \nrouge-l  {'f': 0.033, 'p': 0.032, 'r': 0.038}   \nglobal   {'f': 0.023, 'p': 0.022, 'r': 0.026}   \n\n                             MultipartiteRank  \\\nrouge-1  {'f': 0.068, 'p': 0.083, 'r': 0.068}   \nrouge-2  {'f': 0.002, 'p': 0.002, 'r': 0.002}   \nrouge-l  {'f': 0.068, 'p': 0.083, 'r': 0.068}   \nglobal   {'f': 0.046, 'p': 0.056, 'r': 0.046}   \n\n                                     KeyBERT  \nrouge-1  {'f': 0.045, 'p': 0.057, 'r': 0.04}  \nrouge-2       {'f': 0.0, 'p': 0.0, 'r': 0.0}  \nrouge-l  {'f': 0.045, 'p': 0.057, 'r': 0.04}  \nglobal   {'f': 0.03, 'p': 0.038, 'r': 0.027}  ",
      "text/html": "<div>\n<style scoped>\n    .dataframe tbody tr th:only-of-type {\n        vertical-align: middle;\n    }\n\n    .dataframe tbody tr th {\n        vertical-align: top;\n    }\n\n    .dataframe thead th {\n        text-align: right;\n    }\n</style>\n<table border=\"1\" class=\"dataframe\">\n  <thead>\n    <tr style=\"text-align: right;\">\n      <th></th>\n      <th>YAKE</th>\n      <th>TfIdf</th>\n      <th>MultipartiteRank</th>\n      <th>KeyBERT</th>\n    </tr>\n  </thead>\n  <tbody>\n    <tr>\n      <th>rouge-1</th>\n      <td>{'f': 0.042, 'p': 0.042, 'r': 0.052}</td>\n      <td>{'f': 0.033, 'p': 0.032, 'r': 0.038}</td>\n      <td>{'f': 0.068, 'p': 0.083, 'r': 0.068}</td>\n      <td>{'f': 0.045, 'p': 0.057, 'r': 0.04}</td>\n    </tr>\n    <tr>\n      <th>rouge-2</th>\n      <td>{'f': 0.002, 'p': 0.002, 'r': 0.002}</td>\n      <td>{'f': 0.002, 'p': 0.003, 'r': 0.001}</td>\n      <td>{'f': 0.002, 'p': 0.002, 'r': 0.002}</td>\n      <td>{'f': 0.0, 'p': 0.0, 'r': 0.0}</td>\n    </tr>\n    <tr>\n      <th>rouge-l</th>\n      <td>{'f': 0.042, 'p': 0.042, 'r': 0.052}</td>\n      <td>{'f': 0.033, 'p': 0.032, 'r': 0.038}</td>\n      <td>{'f': 0.068, 'p': 0.083, 'r': 0.068}</td>\n      <td>{'f': 0.045, 'p': 0.057, 'r': 0.04}</td>\n    </tr>\n    <tr>\n      <th>global</th>\n      <td>{'f': 0.029, 'p': 0.029, 'r': 0.035}</td>\n      <td>{'f': 0.023, 'p': 0.022, 'r': 0.026}</td>\n      <td>{'f': 0.046, 'p': 0.056, 'r': 0.046}</td>\n      <td>{'f': 0.03, 'p': 0.038, 'r': 0.027}</td>\n    </tr>\n  </tbody>\n</table>\n</div>"
     },
     "execution_count": 41,
     "metadata": {},
     "output_type": "execute_result"
    }
   ],
   "source": [
    "scores_rouges_mean = {}\n",
    "\n",
    "def add(scores, param): # Fonction pour additionner les scores ROUGE de deux documents\n",
    "    for i in ['rouge-1','rouge-2','rouge-l']:\n",
    "        for j in ['f','p','r']:\n",
    "            scores[i][j] += param[i][j]\n",
    "    return scores\n",
    "\n",
    "for model in scores_rouges: # On calcule les scores ROUGE moyens pour chaque modèle\n",
    "    scores = {'rouge-1': {'f': 0.0, 'p': 0.0, 'r': 0.0}, 'rouge-2': {'f': 0.0, 'p': 0.0, 'r': 0.0}, 'rouge-l': {'f': 0.0, 'p': 0.0, 'r': 0.0}}\n",
    "    for i in range(0,len(scores_rouges[model])):\n",
    "        scores = add(scores,scores_rouges[model][i]) # On additionne les scores ROUGE de chaque document\n",
    "    for i in ['rouge-1','rouge-2','rouge-l']:\n",
    "        for j in ['f','p','r']:\n",
    "            scores[i][j] = round(scores[i][j]/len(scores_rouges[model]),3)  # On divise les scores ROUGE par le nombre de documents pour obtenir la moyenne\n",
    "    scores['global'] = { # On calcule la moyenne des scores ROUGE-1, ROUGE-2 et ROUGE-L, pour faciliter la comparaison entre les modèles\n",
    "        'f': round((scores['rouge-1']['f'] + scores['rouge-2']['f'] + scores['rouge-l']['f'])/3,3),\n",
    "        'p': round((scores['rouge-1']['p'] + scores['rouge-2']['p'] + scores['rouge-l']['p'])/3,3),\n",
    "        'r': round((scores['rouge-1']['r'] + scores['rouge-2']['r'] + scores['rouge-l']['r'])/3,3)\n",
    "    }\n",
    "    scores_rouges_mean[model] = scores\n",
    "pd.DataFrame(scores_rouges_mean)"
   ]
  },
  {
   "cell_type": "markdown",
   "id": "e525334ae65c1f4d",
   "metadata": {
    "collapsed": false
   },
   "source": [
    "+ Les mots-clés extraits semblent-ils raisonnables si vous évaluez vous-même un petit\n",
    "ensemble d'entre eux ?"
   ]
  },
  {
   "cell_type": "code",
   "execution_count": 42,
   "id": "37e957cb22e27a2a",
   "metadata": {
    "collapsed": false,
    "ExecuteTime": {
     "end_time": "2023-11-26T15:01:04.011852489Z",
     "start_time": "2023-11-26T15:01:03.965892292Z"
    }
   },
   "outputs": [
    {
     "data": {
      "text/plain": "                    0                                1  \\\n0         plus riches                     plus pauvres   \n1           ambassade            agressée sexuellement   \n2  nouvelle particule                          matière   \n3      banques belges  moyen de paiement très sécurisé   \n4           naissance                            codes   \n5          discipline                          catalan   \n6             déficit                           impôts   \n7       antisémitisme             agression antisémite   \n8         législative                           purger   \n9             planète         télescope spatial kepler   \n\n                            2                             3  \\\n0                     pauvres              crise financière   \n1              correspondante                   audiovisuel   \n2                        cern                    découverte   \n3  sites de commerce en ligne                      piratage   \n4                      fêtent               grande-bretagne   \n5                député-maire                  linguistique   \n6                        taxe                     fiscalité   \n7                    toulouse  actes d'une extrême violence   \n8                          pp            gouvernement rajoy   \n9    système à quatre étoiles   système stellaire quadruple   \n\n                          4                         5  \n0                    france             niveau de vie  \n1  journaliste de france 24               sonia dridi  \n2                  physique                 particule  \n3                     perte           parquet fédéral  \n4               célébration  université de manchester  \n5                  décision                    député  \n6                    hausse          pierre mosvovici  \n7                    lycéen                 agression  \n8               journalisme                Ana Pastor  \n9                découverte                  diamants  ",
      "text/html": "<div>\n<style scoped>\n    .dataframe tbody tr th:only-of-type {\n        vertical-align: middle;\n    }\n\n    .dataframe tbody tr th {\n        vertical-align: top;\n    }\n\n    .dataframe thead th {\n        text-align: right;\n    }\n</style>\n<table border=\"1\" class=\"dataframe\">\n  <thead>\n    <tr style=\"text-align: right;\">\n      <th></th>\n      <th>0</th>\n      <th>1</th>\n      <th>2</th>\n      <th>3</th>\n      <th>4</th>\n      <th>5</th>\n    </tr>\n  </thead>\n  <tbody>\n    <tr>\n      <th>0</th>\n      <td>plus riches</td>\n      <td>plus pauvres</td>\n      <td>pauvres</td>\n      <td>crise financière</td>\n      <td>france</td>\n      <td>niveau de vie</td>\n    </tr>\n    <tr>\n      <th>1</th>\n      <td>ambassade</td>\n      <td>agressée sexuellement</td>\n      <td>correspondante</td>\n      <td>audiovisuel</td>\n      <td>journaliste de france 24</td>\n      <td>sonia dridi</td>\n    </tr>\n    <tr>\n      <th>2</th>\n      <td>nouvelle particule</td>\n      <td>matière</td>\n      <td>cern</td>\n      <td>découverte</td>\n      <td>physique</td>\n      <td>particule</td>\n    </tr>\n    <tr>\n      <th>3</th>\n      <td>banques belges</td>\n      <td>moyen de paiement très sécurisé</td>\n      <td>sites de commerce en ligne</td>\n      <td>piratage</td>\n      <td>perte</td>\n      <td>parquet fédéral</td>\n    </tr>\n    <tr>\n      <th>4</th>\n      <td>naissance</td>\n      <td>codes</td>\n      <td>fêtent</td>\n      <td>grande-bretagne</td>\n      <td>célébration</td>\n      <td>université de manchester</td>\n    </tr>\n    <tr>\n      <th>5</th>\n      <td>discipline</td>\n      <td>catalan</td>\n      <td>député-maire</td>\n      <td>linguistique</td>\n      <td>décision</td>\n      <td>député</td>\n    </tr>\n    <tr>\n      <th>6</th>\n      <td>déficit</td>\n      <td>impôts</td>\n      <td>taxe</td>\n      <td>fiscalité</td>\n      <td>hausse</td>\n      <td>pierre mosvovici</td>\n    </tr>\n    <tr>\n      <th>7</th>\n      <td>antisémitisme</td>\n      <td>agression antisémite</td>\n      <td>toulouse</td>\n      <td>actes d'une extrême violence</td>\n      <td>lycéen</td>\n      <td>agression</td>\n    </tr>\n    <tr>\n      <th>8</th>\n      <td>législative</td>\n      <td>purger</td>\n      <td>pp</td>\n      <td>gouvernement rajoy</td>\n      <td>journalisme</td>\n      <td>Ana Pastor</td>\n    </tr>\n    <tr>\n      <th>9</th>\n      <td>planète</td>\n      <td>télescope spatial kepler</td>\n      <td>système à quatre étoiles</td>\n      <td>système stellaire quadruple</td>\n      <td>découverte</td>\n      <td>diamants</td>\n    </tr>\n  </tbody>\n</table>\n</div>"
     },
     "metadata": {},
     "output_type": "display_data"
    },
    {
     "data": {
      "text/plain": "                                                YAKE  \\\n0  [riches france, fourchette 2002 - 2004, nouvel...   \n1  [violente agression, télévision france, vérita...   \n2  [facilities council britannique john womersley...   \n3  [grandes banques, sécurité c’est, fédéral anno...   \n4  [turing informatique célébration, informatique...   \n5  [langue catalane, îles baléares, populaire esp...   \n6  [finances pierre moscovici, gouvernement compt...   \n7  [lyon france agression, france agression, nouv...   \n8  [dernier pastor, vrai journalisme, maría dolor...   \n9  [toute première fois, amateurs américains kian...   \n\n                                               TfIdf  \\\n0  [riches france, c'est, fourchette 2002 - 2004,...   \n1  [autres témoins, j'ai, x, autre part, l’ ambas...   \n2  [science découverte, higgs science découverte,...   \n3  [«, est, sécurité c’est, l’ affaire, tous c’es...   \n4  [informatique célébration, turing informatique...   \n5  [populaire espagnol1, «, pp, qu'antoni pastor,...   \n6  [retour, qu'il, finances pierre moscovici, « c...   \n7  [«, france agression, lyon france agression, «...   \n8  [pp, «, autre changement, premier temps, même ...   \n9  [espace découverte, toute première fois, amate...   \n\n                                    MultipartiteRank  \\\n0            [crise, mise, niveau, ans, revenu, vie]   \n1  [france, violente agression, chaîne, caire, jo...   \n2  [boson, nouvelle particule, higgs, découverte,...   \n3  [banques, euros, fédération, millions, parquet...   \n4  [alan, informatique célébration, centenaire, n...   \n5  [langue catalane, parti, député, îles baléares...   \n6  [euros, milliards, impôts, entreprises, gouver...   \n7  [france agression, lyon, « signe religieux, mi...   \n8  [pastor, rtve, « telenotícies, journaliste, ra...   \n9  [soleils, système, étoiles, exoplanète, astron...   \n\n                                             KeyBERT  \n0  [crise, pauvreté, financière, pauvres, 2008, 2...  \n1  [égypte, égyptien, egypte, agression, agressio...  \n2  [higgs, boson, particules, atomique, scientifi...  \n3  [hackers, piratage, banques, pirates, bancaire...  \n4  [informatique, informaticiens, hacker, computi...  \n5  [catalan, catalane, parlementaire, îles, lingu...  \n6   [fiscales, fiscalité, impôts, impôt, taxe, 2012]  \n7  [antisémitisme, antisémites, antisémite, lyon,...  \n8  [rajoy, rubalcaba, purge, espagnole, socialist...  \n9  [astronomes, planethuntersorg, planète, exopla...  ",
      "text/html": "<div>\n<style scoped>\n    .dataframe tbody tr th:only-of-type {\n        vertical-align: middle;\n    }\n\n    .dataframe tbody tr th {\n        vertical-align: top;\n    }\n\n    .dataframe thead th {\n        text-align: right;\n    }\n</style>\n<table border=\"1\" class=\"dataframe\">\n  <thead>\n    <tr style=\"text-align: right;\">\n      <th></th>\n      <th>YAKE</th>\n      <th>TfIdf</th>\n      <th>MultipartiteRank</th>\n      <th>KeyBERT</th>\n    </tr>\n  </thead>\n  <tbody>\n    <tr>\n      <th>0</th>\n      <td>[riches france, fourchette 2002 - 2004, nouvel...</td>\n      <td>[riches france, c'est, fourchette 2002 - 2004,...</td>\n      <td>[crise, mise, niveau, ans, revenu, vie]</td>\n      <td>[crise, pauvreté, financière, pauvres, 2008, 2...</td>\n    </tr>\n    <tr>\n      <th>1</th>\n      <td>[violente agression, télévision france, vérita...</td>\n      <td>[autres témoins, j'ai, x, autre part, l’ ambas...</td>\n      <td>[france, violente agression, chaîne, caire, jo...</td>\n      <td>[égypte, égyptien, egypte, agression, agressio...</td>\n    </tr>\n    <tr>\n      <th>2</th>\n      <td>[facilities council britannique john womersley...</td>\n      <td>[science découverte, higgs science découverte,...</td>\n      <td>[boson, nouvelle particule, higgs, découverte,...</td>\n      <td>[higgs, boson, particules, atomique, scientifi...</td>\n    </tr>\n    <tr>\n      <th>3</th>\n      <td>[grandes banques, sécurité c’est, fédéral anno...</td>\n      <td>[«, est, sécurité c’est, l’ affaire, tous c’es...</td>\n      <td>[banques, euros, fédération, millions, parquet...</td>\n      <td>[hackers, piratage, banques, pirates, bancaire...</td>\n    </tr>\n    <tr>\n      <th>4</th>\n      <td>[turing informatique célébration, informatique...</td>\n      <td>[informatique célébration, turing informatique...</td>\n      <td>[alan, informatique célébration, centenaire, n...</td>\n      <td>[informatique, informaticiens, hacker, computi...</td>\n    </tr>\n    <tr>\n      <th>5</th>\n      <td>[langue catalane, îles baléares, populaire esp...</td>\n      <td>[populaire espagnol1, «, pp, qu'antoni pastor,...</td>\n      <td>[langue catalane, parti, député, îles baléares...</td>\n      <td>[catalan, catalane, parlementaire, îles, lingu...</td>\n    </tr>\n    <tr>\n      <th>6</th>\n      <td>[finances pierre moscovici, gouvernement compt...</td>\n      <td>[retour, qu'il, finances pierre moscovici, « c...</td>\n      <td>[euros, milliards, impôts, entreprises, gouver...</td>\n      <td>[fiscales, fiscalité, impôts, impôt, taxe, 2012]</td>\n    </tr>\n    <tr>\n      <th>7</th>\n      <td>[lyon france agression, france agression, nouv...</td>\n      <td>[«, france agression, lyon france agression, «...</td>\n      <td>[france agression, lyon, « signe religieux, mi...</td>\n      <td>[antisémitisme, antisémites, antisémite, lyon,...</td>\n    </tr>\n    <tr>\n      <th>8</th>\n      <td>[dernier pastor, vrai journalisme, maría dolor...</td>\n      <td>[pp, «, autre changement, premier temps, même ...</td>\n      <td>[pastor, rtve, « telenotícies, journaliste, ra...</td>\n      <td>[rajoy, rubalcaba, purge, espagnole, socialist...</td>\n    </tr>\n    <tr>\n      <th>9</th>\n      <td>[toute première fois, amateurs américains kian...</td>\n      <td>[espace découverte, toute première fois, amate...</td>\n      <td>[soleils, système, étoiles, exoplanète, astron...</td>\n      <td>[astronomes, planethuntersorg, planète, exopla...</td>\n    </tr>\n  </tbody>\n</table>\n</div>"
     },
     "metadata": {},
     "output_type": "display_data"
    },
    {
     "data": {
      "text/plain": "                                                   0\n0   france la crise financière touche les plus pa...\n1   égypte une journaliste de france 24 victime d...\n2   science découverte du boson de higgs science ...\n3   banques belges piratées « le parquet exagère ...\n4   informatique célébration du centenaire de la ...\n5   îles baléares le parti populaire exclut le dé...\n6   france les impôts augmenteront de 72 milliard...\n7   france agression antisémite contre un lycéen ...\n8   espagne purge à la rtve après l'arrivée de ra...\n9   espace découverte d'une exoplanète possédant ...",
      "text/html": "<div>\n<style scoped>\n    .dataframe tbody tr th:only-of-type {\n        vertical-align: middle;\n    }\n\n    .dataframe tbody tr th {\n        vertical-align: top;\n    }\n\n    .dataframe thead th {\n        text-align: right;\n    }\n</style>\n<table border=\"1\" class=\"dataframe\">\n  <thead>\n    <tr style=\"text-align: right;\">\n      <th></th>\n      <th>0</th>\n    </tr>\n  </thead>\n  <tbody>\n    <tr>\n      <th>0</th>\n      <td>france la crise financière touche les plus pa...</td>\n    </tr>\n    <tr>\n      <th>1</th>\n      <td>égypte une journaliste de france 24 victime d...</td>\n    </tr>\n    <tr>\n      <th>2</th>\n      <td>science découverte du boson de higgs science ...</td>\n    </tr>\n    <tr>\n      <th>3</th>\n      <td>banques belges piratées « le parquet exagère ...</td>\n    </tr>\n    <tr>\n      <th>4</th>\n      <td>informatique célébration du centenaire de la ...</td>\n    </tr>\n    <tr>\n      <th>5</th>\n      <td>îles baléares le parti populaire exclut le dé...</td>\n    </tr>\n    <tr>\n      <th>6</th>\n      <td>france les impôts augmenteront de 72 milliard...</td>\n    </tr>\n    <tr>\n      <th>7</th>\n      <td>france agression antisémite contre un lycéen ...</td>\n    </tr>\n    <tr>\n      <th>8</th>\n      <td>espagne purge à la rtve après l'arrivée de ra...</td>\n    </tr>\n    <tr>\n      <th>9</th>\n      <td>espace découverte d'une exoplanète possédant ...</td>\n    </tr>\n  </tbody>\n</table>\n</div>"
     },
     "metadata": {},
     "output_type": "display_data"
    }
   ],
   "source": [
    "sample_indexes = pd.DataFrame(outputs).sample(10).index.array # On sélectionne 10 index au hasard, pour évaluer les mots-clés extraits manuellement\n",
    "outputs_samples = {}\n",
    "for i in outputs:\n",
    "    outputs_samples[i] = []\n",
    "    for j in sample_indexes:\n",
    "        outputs_samples[i].append(outputs[i][j])\n",
    "outputs_samples = pd.DataFrame(outputs_samples) # On récupère les mots-clés extraits correspondant aux index sélectionnés\n",
    "list_docs_samples = pd.DataFrame([list_docs[i] for i in sample_indexes]) # On récupère les documents correspondant aux index sélectionnés\n",
    "list_keys_samples = pd.DataFrame([list_keys[i] for i in sample_indexes]) # On récupère les mots-clés attendus correspondant aux index sélectionnés\n",
    "display(list_keys_samples)\n",
    "display(outputs_samples)\n",
    "display(list_docs_samples)"
   ]
  },
  {
   "cell_type": "markdown",
   "id": "dcec483d8aba2db0",
   "metadata": {
    "collapsed": false
   },
   "source": [
    "+ Combien de temps a-t-il fallu à chaque algorithme pour extraire les KP du dataset ?\n",
    "\n",
    "Les temps des algorithmes sont les suivants :\n",
    "TfIdf : 90 secondes\n",
    "YAKE : 89 secondes\n",
    "MultipartiteRank : 95 secondes"
   ]
  },
  {
   "cell_type": "code",
   "execution_count": 43,
   "id": "ff27b81152a13b7a",
   "metadata": {
    "collapsed": false,
    "ExecuteTime": {
     "end_time": "2023-11-26T15:01:04.019718637Z",
     "start_time": "2023-11-26T15:01:03.966196731Z"
    }
   },
   "outputs": [
    {
     "data": {
      "text/plain": "{'YAKE': 98.6207640171051,\n 'TfIdf': 95.64659881591797,\n 'MultipartiteRank': 97.64895558357239,\n 'KeyBERT': 5.224766492843628}"
     },
     "execution_count": 43,
     "metadata": {},
     "output_type": "execute_result"
    }
   ],
   "source": [
    "times # times contient les temps d'exécution des algorithmes sur l'ensemble des documents"
   ]
  },
  {
   "cell_type": "markdown",
   "id": "8992a0a0dd49d032",
   "metadata": {
    "collapsed": false
   },
   "source": [
    "+ Pourquoi pensez-vous qu'il a le mieux fonctionné ?\n",
    "+ Comment représenteriez-vous chaque document et ses phrases-clés extraites respectives\n",
    "sous la forme d'un graphe de connaissances ? Quels vocabulaires utiliseriez-vous ?"
   ]
  }
 ],
 "metadata": {
  "kernelspec": {
   "display_name": "Python 3 (ipykernel)",
   "language": "python",
   "name": "python3"
  },
  "language_info": {
   "codemirror_mode": {
    "name": "ipython",
    "version": 3
   },
   "file_extension": ".py",
   "mimetype": "text/x-python",
   "name": "python",
   "nbconvert_exporter": "python",
   "pygments_lexer": "ipython3",
   "version": "3.11.4"
  }
 },
 "nbformat": 4,
 "nbformat_minor": 5
}
